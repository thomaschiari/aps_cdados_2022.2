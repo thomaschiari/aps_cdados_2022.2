{
 "cells": [
  {
   "cell_type": "markdown",
   "metadata": {
    "collapsed": false,
    "pycharm": {
     "name": "#%% md\n"
    }
   },
   "source": [
    "# Introdução\n",
    "\n",
    "O objetivo da APS3 é realizar uma análise inferencial com base nas probabilidades calculadas pelo grupo. Para isso, escolhemos dois blocos econômicos para trabalharmos: O Mercosul e a União Europeia."
   ]
  },
  {
   "cell_type": "code",
   "execution_count": 1,
   "metadata": {
    "collapsed": false,
    "pycharm": {
     "name": "#%%\n"
    }
   },
   "outputs": [],
   "source": [
    "import pandas as pd"
   ]
  },
  {
   "cell_type": "markdown",
   "metadata": {
    "collapsed": false,
    "pycharm": {
     "name": "#%% md\n"
    }
   },
   "source": [
    "## Tratamento e Importação dos dados"
   ]
  },
  {
   "cell_type": "code",
   "execution_count": 2,
   "metadata": {
    "collapsed": false,
    "pycharm": {
     "name": "#%%\n"
    }
   },
   "outputs": [
    {
     "data": {
      "text/plain": "                  Country Name Country Code  \\\n0                        Aruba          ABW   \n1  Africa Eastern and Southern          AFE   \n2                  Afghanistan          AFG   \n3   Africa Western and Central          AFW   \n\n                           Indicator Name  Indicator Code      2000      2001  \\\n0  CO2 emissions (metric tons per capita)  EN.ATM.CO2E.PC       NaN       NaN   \n1  CO2 emissions (metric tons per capita)  EN.ATM.CO2E.PC  0.894017  0.962371   \n2  CO2 emissions (metric tons per capita)  EN.ATM.CO2E.PC  0.036574  0.033785   \n3  CO2 emissions (metric tons per capita)  EN.ATM.CO2E.PC  0.530435  0.544612   \n\n       2002      2003      2004      2005  ...      2010      2011      2012  \\\n0       NaN       NaN       NaN       NaN  ...       NaN       NaN       NaN   \n1  0.964187  0.991013  1.036161  1.011151  ...  1.021548  0.979352  0.992616   \n2  0.045574  0.051518  0.041655  0.060419  ...  0.243614  0.296506  0.259295   \n3  0.502621  0.521609  0.507780  0.508247  ...  0.472077  0.476789  0.480603   \n\n       2013      2014      2015      2016      2017      2018      2019  \n0       NaN       NaN       NaN       NaN       NaN       NaN       NaN  \n1  1.005027  1.016649  0.966589  0.948410  0.937926  0.917507  0.913618  \n2  0.185624  0.146236  0.172897  0.149789  0.131695  0.163295  0.159824  \n3  0.508099  0.515960  0.494065  0.499405  0.483140  0.486456  0.493923  \n\n[4 rows x 24 columns]",
      "text/html": "<div>\n<style scoped>\n    .dataframe tbody tr th:only-of-type {\n        vertical-align: middle;\n    }\n\n    .dataframe tbody tr th {\n        vertical-align: top;\n    }\n\n    .dataframe thead th {\n        text-align: right;\n    }\n</style>\n<table border=\"1\" class=\"dataframe\">\n  <thead>\n    <tr style=\"text-align: right;\">\n      <th></th>\n      <th>Country Name</th>\n      <th>Country Code</th>\n      <th>Indicator Name</th>\n      <th>Indicator Code</th>\n      <th>2000</th>\n      <th>2001</th>\n      <th>2002</th>\n      <th>2003</th>\n      <th>2004</th>\n      <th>2005</th>\n      <th>...</th>\n      <th>2010</th>\n      <th>2011</th>\n      <th>2012</th>\n      <th>2013</th>\n      <th>2014</th>\n      <th>2015</th>\n      <th>2016</th>\n      <th>2017</th>\n      <th>2018</th>\n      <th>2019</th>\n    </tr>\n  </thead>\n  <tbody>\n    <tr>\n      <th>0</th>\n      <td>Aruba</td>\n      <td>ABW</td>\n      <td>CO2 emissions (metric tons per capita)</td>\n      <td>EN.ATM.CO2E.PC</td>\n      <td>NaN</td>\n      <td>NaN</td>\n      <td>NaN</td>\n      <td>NaN</td>\n      <td>NaN</td>\n      <td>NaN</td>\n      <td>...</td>\n      <td>NaN</td>\n      <td>NaN</td>\n      <td>NaN</td>\n      <td>NaN</td>\n      <td>NaN</td>\n      <td>NaN</td>\n      <td>NaN</td>\n      <td>NaN</td>\n      <td>NaN</td>\n      <td>NaN</td>\n    </tr>\n    <tr>\n      <th>1</th>\n      <td>Africa Eastern and Southern</td>\n      <td>AFE</td>\n      <td>CO2 emissions (metric tons per capita)</td>\n      <td>EN.ATM.CO2E.PC</td>\n      <td>0.894017</td>\n      <td>0.962371</td>\n      <td>0.964187</td>\n      <td>0.991013</td>\n      <td>1.036161</td>\n      <td>1.011151</td>\n      <td>...</td>\n      <td>1.021548</td>\n      <td>0.979352</td>\n      <td>0.992616</td>\n      <td>1.005027</td>\n      <td>1.016649</td>\n      <td>0.966589</td>\n      <td>0.948410</td>\n      <td>0.937926</td>\n      <td>0.917507</td>\n      <td>0.913618</td>\n    </tr>\n    <tr>\n      <th>2</th>\n      <td>Afghanistan</td>\n      <td>AFG</td>\n      <td>CO2 emissions (metric tons per capita)</td>\n      <td>EN.ATM.CO2E.PC</td>\n      <td>0.036574</td>\n      <td>0.033785</td>\n      <td>0.045574</td>\n      <td>0.051518</td>\n      <td>0.041655</td>\n      <td>0.060419</td>\n      <td>...</td>\n      <td>0.243614</td>\n      <td>0.296506</td>\n      <td>0.259295</td>\n      <td>0.185624</td>\n      <td>0.146236</td>\n      <td>0.172897</td>\n      <td>0.149789</td>\n      <td>0.131695</td>\n      <td>0.163295</td>\n      <td>0.159824</td>\n    </tr>\n    <tr>\n      <th>3</th>\n      <td>Africa Western and Central</td>\n      <td>AFW</td>\n      <td>CO2 emissions (metric tons per capita)</td>\n      <td>EN.ATM.CO2E.PC</td>\n      <td>0.530435</td>\n      <td>0.544612</td>\n      <td>0.502621</td>\n      <td>0.521609</td>\n      <td>0.507780</td>\n      <td>0.508247</td>\n      <td>...</td>\n      <td>0.472077</td>\n      <td>0.476789</td>\n      <td>0.480603</td>\n      <td>0.508099</td>\n      <td>0.515960</td>\n      <td>0.494065</td>\n      <td>0.499405</td>\n      <td>0.483140</td>\n      <td>0.486456</td>\n      <td>0.493923</td>\n    </tr>\n  </tbody>\n</table>\n<p>4 rows × 24 columns</p>\n</div>"
     },
     "execution_count": 2,
     "metadata": {},
     "output_type": "execute_result"
    }
   ],
   "source": [
    "PATH = 'data/API_EN.ATM.CO2E.PC_DS2_en_csv_v2_4353266/API_EN.ATM.CO2E.PC_DS2_en_csv_v2_4353266.csv'\n",
    "df = pd.read_csv(PATH, skiprows=4, sep=',', decimal='.', encoding='latin1')\n",
    "\n",
    "# Utilizar apenas os dados disponíveis (entre 1960 e 2019)\n",
    "for i in range(1960, 2000):\n",
    "    del df[str(i)]\n",
    "df.drop(['2020', '2021', 'Unnamed: 66'], axis=1, inplace=True)\n",
    "\n",
    "df.head(4)"
   ]
  },
  {
   "cell_type": "code",
   "execution_count": 3,
   "metadata": {
    "collapsed": false,
    "pycharm": {
     "name": "#%%\n"
    }
   },
   "outputs": [],
   "source": [
    "# Filtragem\n",
    "df_ue = df[df['Country Code'].isin(['AUT', 'BEL', 'BGR', 'HRV', 'CYP', 'CZE', 'DNK', 'EST', 'FIN', 'FRA', 'DEU', 'GRC', 'HUN', 'IRL', 'ITA', 'LVA', 'LTU', 'LUX', 'MLT', 'NLD', 'POL', 'PRT', 'ROU', 'SVK', 'SVN', 'ESP', 'SWE'])]\n",
    "\n",
    "df_ms = df[df['Country Code'].isin(['ARG', 'BRA', 'PRY', 'URY', 'VEN', 'CHL', 'COL', 'PER', 'BOL', 'ECU', 'GUY', 'SUR'])]"
   ]
  },
  {
   "cell_type": "code",
   "execution_count": 4,
   "metadata": {
    "collapsed": false,
    "pycharm": {
     "name": "#%%\n"
    }
   },
   "outputs": [
    {
     "data": {
      "text/plain": "   Country Name Country Code                          Indicator Name  \\\n14      Austria          AUT  CO2 emissions (metric tons per capita)   \n17      Belgium          BEL  CO2 emissions (metric tons per capita)   \n21     Bulgaria          BGR  CO2 emissions (metric tons per capita)   \n53       Cyprus          CYP  CO2 emissions (metric tons per capita)   \n\n    Indicator Code       2000       2001       2002       2003       2004  \\\n14  EN.ATM.CO2E.PC   7.929786   8.444109   8.583317   9.168344   9.275614   \n17  EN.ATM.CO2E.PC  11.439581  11.504321  10.727988  11.131315  10.941224   \n21  EN.ATM.CO2E.PC   5.314454   5.767160   5.563239   6.164371   6.125549   \n53  EN.ATM.CO2E.PC   7.558667   7.279172   7.339033   7.880736   7.699845   \n\n         2005  ...      2010      2011      2012      2013      2014  \\\n14   9.266114  ...  8.365015  8.135474  7.723614  7.753700  7.260404   \n17  10.555782  ...  9.794792  8.740505  8.577526  8.655478  8.041711   \n21   6.265854  ...  6.049544  6.755278  6.162153  5.458964  5.820925   \n53   7.687390  ...  7.100377  6.783205  6.255253  5.621288  5.909935   \n\n        2015      2016      2017      2018      2019  \n14  7.317159  7.288820  7.486162  7.133064  7.293984  \n17  8.437852  8.314932  8.151096  8.196339  8.095584  \n21  6.207865  5.834882  6.201290  5.822034  5.610857  \n53  5.900152  6.169943  6.238954  6.054175  5.998795  \n\n[4 rows x 24 columns]",
      "text/html": "<div>\n<style scoped>\n    .dataframe tbody tr th:only-of-type {\n        vertical-align: middle;\n    }\n\n    .dataframe tbody tr th {\n        vertical-align: top;\n    }\n\n    .dataframe thead th {\n        text-align: right;\n    }\n</style>\n<table border=\"1\" class=\"dataframe\">\n  <thead>\n    <tr style=\"text-align: right;\">\n      <th></th>\n      <th>Country Name</th>\n      <th>Country Code</th>\n      <th>Indicator Name</th>\n      <th>Indicator Code</th>\n      <th>2000</th>\n      <th>2001</th>\n      <th>2002</th>\n      <th>2003</th>\n      <th>2004</th>\n      <th>2005</th>\n      <th>...</th>\n      <th>2010</th>\n      <th>2011</th>\n      <th>2012</th>\n      <th>2013</th>\n      <th>2014</th>\n      <th>2015</th>\n      <th>2016</th>\n      <th>2017</th>\n      <th>2018</th>\n      <th>2019</th>\n    </tr>\n  </thead>\n  <tbody>\n    <tr>\n      <th>14</th>\n      <td>Austria</td>\n      <td>AUT</td>\n      <td>CO2 emissions (metric tons per capita)</td>\n      <td>EN.ATM.CO2E.PC</td>\n      <td>7.929786</td>\n      <td>8.444109</td>\n      <td>8.583317</td>\n      <td>9.168344</td>\n      <td>9.275614</td>\n      <td>9.266114</td>\n      <td>...</td>\n      <td>8.365015</td>\n      <td>8.135474</td>\n      <td>7.723614</td>\n      <td>7.753700</td>\n      <td>7.260404</td>\n      <td>7.317159</td>\n      <td>7.288820</td>\n      <td>7.486162</td>\n      <td>7.133064</td>\n      <td>7.293984</td>\n    </tr>\n    <tr>\n      <th>17</th>\n      <td>Belgium</td>\n      <td>BEL</td>\n      <td>CO2 emissions (metric tons per capita)</td>\n      <td>EN.ATM.CO2E.PC</td>\n      <td>11.439581</td>\n      <td>11.504321</td>\n      <td>10.727988</td>\n      <td>11.131315</td>\n      <td>10.941224</td>\n      <td>10.555782</td>\n      <td>...</td>\n      <td>9.794792</td>\n      <td>8.740505</td>\n      <td>8.577526</td>\n      <td>8.655478</td>\n      <td>8.041711</td>\n      <td>8.437852</td>\n      <td>8.314932</td>\n      <td>8.151096</td>\n      <td>8.196339</td>\n      <td>8.095584</td>\n    </tr>\n    <tr>\n      <th>21</th>\n      <td>Bulgaria</td>\n      <td>BGR</td>\n      <td>CO2 emissions (metric tons per capita)</td>\n      <td>EN.ATM.CO2E.PC</td>\n      <td>5.314454</td>\n      <td>5.767160</td>\n      <td>5.563239</td>\n      <td>6.164371</td>\n      <td>6.125549</td>\n      <td>6.265854</td>\n      <td>...</td>\n      <td>6.049544</td>\n      <td>6.755278</td>\n      <td>6.162153</td>\n      <td>5.458964</td>\n      <td>5.820925</td>\n      <td>6.207865</td>\n      <td>5.834882</td>\n      <td>6.201290</td>\n      <td>5.822034</td>\n      <td>5.610857</td>\n    </tr>\n    <tr>\n      <th>53</th>\n      <td>Cyprus</td>\n      <td>CYP</td>\n      <td>CO2 emissions (metric tons per capita)</td>\n      <td>EN.ATM.CO2E.PC</td>\n      <td>7.558667</td>\n      <td>7.279172</td>\n      <td>7.339033</td>\n      <td>7.880736</td>\n      <td>7.699845</td>\n      <td>7.687390</td>\n      <td>...</td>\n      <td>7.100377</td>\n      <td>6.783205</td>\n      <td>6.255253</td>\n      <td>5.621288</td>\n      <td>5.909935</td>\n      <td>5.900152</td>\n      <td>6.169943</td>\n      <td>6.238954</td>\n      <td>6.054175</td>\n      <td>5.998795</td>\n    </tr>\n  </tbody>\n</table>\n<p>4 rows × 24 columns</p>\n</div>"
     },
     "execution_count": 4,
     "metadata": {},
     "output_type": "execute_result"
    }
   ],
   "source": [
    "df_ue.head(4)"
   ]
  },
  {
   "cell_type": "code",
   "execution_count": 5,
   "metadata": {
    "collapsed": false,
    "pycharm": {
     "name": "#%%\n"
    }
   },
   "outputs": [
    {
     "data": {
      "text/plain": "   Country Name Country Code                          Indicator Name  \\\n9     Argentina          ARG  CO2 emissions (metric tons per capita)   \n28      Bolivia          BOL  CO2 emissions (metric tons per capita)   \n29       Brazil          BRA  CO2 emissions (metric tons per capita)   \n39        Chile          CHL  CO2 emissions (metric tons per capita)   \n\n    Indicator Code      2000      2001      2002      2003      2004  \\\n9   EN.ATM.CO2E.PC  3.587392  3.360371  3.117425  3.351724  3.672974   \n28  EN.ATM.CO2E.PC  0.975260  0.938202  0.949350  1.019558  1.046417   \n29  EN.ATM.CO2E.PC  1.794550  1.802410  1.769881  1.709539  1.785372   \n39  EN.ATM.CO2E.PC  3.286328  3.121272  3.131772  3.167263  3.432413   \n\n        2005  ...      2010      2011      2012      2013      2014      2015  \\\n9   3.753639  ...  4.099690  4.280989  4.264224  4.342115  4.209096  4.301914   \n28  1.088569  ...  1.509663  1.626366  1.678603  1.777588  1.906316  1.909891   \n29  1.782062  ...  2.033226  2.117869  2.279272  2.421657  2.523232  2.373629   \n39  3.458629  ...  4.087905  4.437266  4.506229  4.723555  4.311061  4.576124   \n\n        2016      2017      2018      2019  \n9   4.201846  4.071308  3.975772  3.740650  \n28  1.995137  2.032547  2.046130  1.940398  \n29  2.168575  2.196418  2.071855  2.057811  \n39  4.749830  4.714020  4.624338  4.821118  \n\n[4 rows x 24 columns]",
      "text/html": "<div>\n<style scoped>\n    .dataframe tbody tr th:only-of-type {\n        vertical-align: middle;\n    }\n\n    .dataframe tbody tr th {\n        vertical-align: top;\n    }\n\n    .dataframe thead th {\n        text-align: right;\n    }\n</style>\n<table border=\"1\" class=\"dataframe\">\n  <thead>\n    <tr style=\"text-align: right;\">\n      <th></th>\n      <th>Country Name</th>\n      <th>Country Code</th>\n      <th>Indicator Name</th>\n      <th>Indicator Code</th>\n      <th>2000</th>\n      <th>2001</th>\n      <th>2002</th>\n      <th>2003</th>\n      <th>2004</th>\n      <th>2005</th>\n      <th>...</th>\n      <th>2010</th>\n      <th>2011</th>\n      <th>2012</th>\n      <th>2013</th>\n      <th>2014</th>\n      <th>2015</th>\n      <th>2016</th>\n      <th>2017</th>\n      <th>2018</th>\n      <th>2019</th>\n    </tr>\n  </thead>\n  <tbody>\n    <tr>\n      <th>9</th>\n      <td>Argentina</td>\n      <td>ARG</td>\n      <td>CO2 emissions (metric tons per capita)</td>\n      <td>EN.ATM.CO2E.PC</td>\n      <td>3.587392</td>\n      <td>3.360371</td>\n      <td>3.117425</td>\n      <td>3.351724</td>\n      <td>3.672974</td>\n      <td>3.753639</td>\n      <td>...</td>\n      <td>4.099690</td>\n      <td>4.280989</td>\n      <td>4.264224</td>\n      <td>4.342115</td>\n      <td>4.209096</td>\n      <td>4.301914</td>\n      <td>4.201846</td>\n      <td>4.071308</td>\n      <td>3.975772</td>\n      <td>3.740650</td>\n    </tr>\n    <tr>\n      <th>28</th>\n      <td>Bolivia</td>\n      <td>BOL</td>\n      <td>CO2 emissions (metric tons per capita)</td>\n      <td>EN.ATM.CO2E.PC</td>\n      <td>0.975260</td>\n      <td>0.938202</td>\n      <td>0.949350</td>\n      <td>1.019558</td>\n      <td>1.046417</td>\n      <td>1.088569</td>\n      <td>...</td>\n      <td>1.509663</td>\n      <td>1.626366</td>\n      <td>1.678603</td>\n      <td>1.777588</td>\n      <td>1.906316</td>\n      <td>1.909891</td>\n      <td>1.995137</td>\n      <td>2.032547</td>\n      <td>2.046130</td>\n      <td>1.940398</td>\n    </tr>\n    <tr>\n      <th>29</th>\n      <td>Brazil</td>\n      <td>BRA</td>\n      <td>CO2 emissions (metric tons per capita)</td>\n      <td>EN.ATM.CO2E.PC</td>\n      <td>1.794550</td>\n      <td>1.802410</td>\n      <td>1.769881</td>\n      <td>1.709539</td>\n      <td>1.785372</td>\n      <td>1.782062</td>\n      <td>...</td>\n      <td>2.033226</td>\n      <td>2.117869</td>\n      <td>2.279272</td>\n      <td>2.421657</td>\n      <td>2.523232</td>\n      <td>2.373629</td>\n      <td>2.168575</td>\n      <td>2.196418</td>\n      <td>2.071855</td>\n      <td>2.057811</td>\n    </tr>\n    <tr>\n      <th>39</th>\n      <td>Chile</td>\n      <td>CHL</td>\n      <td>CO2 emissions (metric tons per capita)</td>\n      <td>EN.ATM.CO2E.PC</td>\n      <td>3.286328</td>\n      <td>3.121272</td>\n      <td>3.131772</td>\n      <td>3.167263</td>\n      <td>3.432413</td>\n      <td>3.458629</td>\n      <td>...</td>\n      <td>4.087905</td>\n      <td>4.437266</td>\n      <td>4.506229</td>\n      <td>4.723555</td>\n      <td>4.311061</td>\n      <td>4.576124</td>\n      <td>4.749830</td>\n      <td>4.714020</td>\n      <td>4.624338</td>\n      <td>4.821118</td>\n    </tr>\n  </tbody>\n</table>\n<p>4 rows × 24 columns</p>\n</div>"
     },
     "execution_count": 5,
     "metadata": {},
     "output_type": "execute_result"
    }
   ],
   "source": [
    "df_ms.head(4)"
   ]
  },
  {
   "cell_type": "markdown",
   "metadata": {
    "collapsed": false,
    "pycharm": {
     "name": "#%% md\n"
    }
   },
   "source": [
    "# Sobre os blocos econômicos escolhidos\n",
    "\n",
    "## Mercosul\n",
    "O Mercosul é uma iniciativa de livre comércio de países sul-americanos. Conta, atualmente, com 5 países membros e 7 países associados. O bloco foi fundado em 1991 e, desde então, tem como objetivo a integração econômica e social dos países que o compõem. O maior critério para a criação e adesão de países é a proximidade geográfica e cultural de seus membros.\n",
    "\n",
    "## União Europeia\n",
    "A União Europeia é uma iniciativa que institui um mercado comum no continente europeu. O bloco foi fundado em 1993 e atualmente conta com 27 países membros. O objetivo da União Europeia é a integração econômica e social dos países que a compõem. Os critérios de entrada e permanência no bloco são mais complexos que os do Mercosul, envolvendo os critérios de Copenhague (questões políticas, econômicas e de acervo comunitário). Além do mercado comum, o bloco também possui uma política externa comum, uma moeda comum (Euro) e uma política de imigração comum."
   ]
  },
  {
   "cell_type": "code",
   "execution_count": 6,
   "metadata": {
    "collapsed": false,
    "pycharm": {
     "name": "#%%\n"
    }
   },
   "outputs": [
    {
     "data": {
      "text/plain": "array(['Austria', 'Belgium', 'Bulgaria', 'Cyprus', 'Czech Republic',\n       'Germany', 'Denmark', 'Spain', 'Estonia', 'Finland', 'France',\n       'Greece', 'Croatia', 'Hungary', 'Ireland', 'Italy', 'Lithuania',\n       'Luxembourg', 'Latvia', 'Malta', 'Netherlands', 'Poland',\n       'Portugal', 'Romania', 'Slovak Republic', 'Slovenia', 'Sweden'],\n      dtype=object)"
     },
     "execution_count": 6,
     "metadata": {},
     "output_type": "execute_result"
    }
   ],
   "source": [
    "# Países da União Europeia\n",
    "df_ue['Country Name'].unique()"
   ]
  },
  {
   "cell_type": "code",
   "execution_count": 7,
   "metadata": {
    "collapsed": false,
    "pycharm": {
     "name": "#%%\n"
    }
   },
   "outputs": [
    {
     "data": {
      "text/plain": "array(['Argentina', 'Bolivia', 'Brazil', 'Chile', 'Colombia', 'Ecuador',\n       'Guyana', 'Peru', 'Paraguay', 'Suriname', 'Uruguay',\n       'Venezuela, RB'], dtype=object)"
     },
     "execution_count": 7,
     "metadata": {},
     "output_type": "execute_result"
    }
   ],
   "source": [
    "# Países do Mercosul\n",
    "df_ms['Country Name'].unique()"
   ]
  },
  {
   "cell_type": "markdown",
   "metadata": {
    "collapsed": false,
    "pycharm": {
     "name": "#%% md\n"
    }
   },
   "source": [
    "# Métrica escolhida\n",
    "Para a análise, o grupo escolheu trabalhar com o Delta de emissões de CO2 por pessoa entre 2000 e 2019. O Delta foi escolhido pois demonstra mais facilmente as variações de emissões de CO2 por pessoa entre os países, podendo ser facilmente comparado e analisado. Para calculá-lo, o grupo realizou a contagem de emissões de CO2 por pessoa em 2000 e em 2019, e então subtraiu o valor de 2000 do valor de 2019. O resultado foi o Delta apresentado a seguir.\n",
    "\n",
    "Para o Status, o grupo utilizou a seguinte classificação:\n",
    "- Delta maior ou igual a zero: Status Atrasado\n",
    "- Delta menor que zero: Status Avançado"
   ]
  },
  {
   "cell_type": "code",
   "execution_count": 8,
   "metadata": {
    "collapsed": false,
    "pycharm": {
     "name": "#%%\n"
    }
   },
   "outputs": [
    {
     "name": "stderr",
     "output_type": "stream",
     "text": [
      "/tmp/ipykernel_14185/3508682445.py:3: SettingWithCopyWarning: \n",
      "A value is trying to be set on a copy of a slice from a DataFrame.\n",
      "Try using .loc[row_indexer,col_indexer] = value instead\n",
      "\n",
      "See the caveats in the documentation: https://pandas.pydata.org/pandas-docs/stable/user_guide/indexing.html#returning-a-view-versus-a-copy\n",
      "  df_ue.loc[df_ue['Country Name'] == country, 'Delta'] = df_ue.loc[df_ue['Country Name'] == country, '2019'].values[0] - df_ue.loc[df_ue['Country Name'] == country, '2000'].values[0]\n",
      "/tmp/ipykernel_14185/3508682445.py:6: SettingWithCopyWarning: \n",
      "A value is trying to be set on a copy of a slice from a DataFrame.\n",
      "Try using .loc[row_indexer,col_indexer] = value instead\n",
      "\n",
      "See the caveats in the documentation: https://pandas.pydata.org/pandas-docs/stable/user_guide/indexing.html#returning-a-view-versus-a-copy\n",
      "  df_ms.loc[df_ms['Country Name'] == country, 'Delta'] = df_ms.loc[df_ms['Country Name'] == country, '2019'].values[0] - df_ms.loc[df_ms['Country Name'] == country, '2000'].values[0]\n"
     ]
    },
    {
     "data": {
      "text/plain": "   Country Name Country Code                          Indicator Name  \\\n14      Austria          AUT  CO2 emissions (metric tons per capita)   \n17      Belgium          BEL  CO2 emissions (metric tons per capita)   \n21     Bulgaria          BGR  CO2 emissions (metric tons per capita)   \n53       Cyprus          CYP  CO2 emissions (metric tons per capita)   \n\n    Indicator Code       2000       2001       2002       2003       2004  \\\n14  EN.ATM.CO2E.PC   7.929786   8.444109   8.583317   9.168344   9.275614   \n17  EN.ATM.CO2E.PC  11.439581  11.504321  10.727988  11.131315  10.941224   \n21  EN.ATM.CO2E.PC   5.314454   5.767160   5.563239   6.164371   6.125549   \n53  EN.ATM.CO2E.PC   7.558667   7.279172   7.339033   7.880736   7.699845   \n\n         2005  ...      2011      2012      2013      2014      2015  \\\n14   9.266114  ...  8.135474  7.723614  7.753700  7.260404  7.317159   \n17  10.555782  ...  8.740505  8.577526  8.655478  8.041711  8.437852   \n21   6.265854  ...  6.755278  6.162153  5.458964  5.820925  6.207865   \n53   7.687390  ...  6.783205  6.255253  5.621288  5.909935  5.900152   \n\n        2016      2017      2018      2019     Delta  \n14  7.288820  7.486162  7.133064  7.293984 -0.635801  \n17  8.314932  8.151096  8.196339  8.095584 -3.343997  \n21  5.834882  6.201290  5.822034  5.610857  0.296404  \n53  6.169943  6.238954  6.054175  5.998795 -1.559872  \n\n[4 rows x 25 columns]",
      "text/html": "<div>\n<style scoped>\n    .dataframe tbody tr th:only-of-type {\n        vertical-align: middle;\n    }\n\n    .dataframe tbody tr th {\n        vertical-align: top;\n    }\n\n    .dataframe thead th {\n        text-align: right;\n    }\n</style>\n<table border=\"1\" class=\"dataframe\">\n  <thead>\n    <tr style=\"text-align: right;\">\n      <th></th>\n      <th>Country Name</th>\n      <th>Country Code</th>\n      <th>Indicator Name</th>\n      <th>Indicator Code</th>\n      <th>2000</th>\n      <th>2001</th>\n      <th>2002</th>\n      <th>2003</th>\n      <th>2004</th>\n      <th>2005</th>\n      <th>...</th>\n      <th>2011</th>\n      <th>2012</th>\n      <th>2013</th>\n      <th>2014</th>\n      <th>2015</th>\n      <th>2016</th>\n      <th>2017</th>\n      <th>2018</th>\n      <th>2019</th>\n      <th>Delta</th>\n    </tr>\n  </thead>\n  <tbody>\n    <tr>\n      <th>14</th>\n      <td>Austria</td>\n      <td>AUT</td>\n      <td>CO2 emissions (metric tons per capita)</td>\n      <td>EN.ATM.CO2E.PC</td>\n      <td>7.929786</td>\n      <td>8.444109</td>\n      <td>8.583317</td>\n      <td>9.168344</td>\n      <td>9.275614</td>\n      <td>9.266114</td>\n      <td>...</td>\n      <td>8.135474</td>\n      <td>7.723614</td>\n      <td>7.753700</td>\n      <td>7.260404</td>\n      <td>7.317159</td>\n      <td>7.288820</td>\n      <td>7.486162</td>\n      <td>7.133064</td>\n      <td>7.293984</td>\n      <td>-0.635801</td>\n    </tr>\n    <tr>\n      <th>17</th>\n      <td>Belgium</td>\n      <td>BEL</td>\n      <td>CO2 emissions (metric tons per capita)</td>\n      <td>EN.ATM.CO2E.PC</td>\n      <td>11.439581</td>\n      <td>11.504321</td>\n      <td>10.727988</td>\n      <td>11.131315</td>\n      <td>10.941224</td>\n      <td>10.555782</td>\n      <td>...</td>\n      <td>8.740505</td>\n      <td>8.577526</td>\n      <td>8.655478</td>\n      <td>8.041711</td>\n      <td>8.437852</td>\n      <td>8.314932</td>\n      <td>8.151096</td>\n      <td>8.196339</td>\n      <td>8.095584</td>\n      <td>-3.343997</td>\n    </tr>\n    <tr>\n      <th>21</th>\n      <td>Bulgaria</td>\n      <td>BGR</td>\n      <td>CO2 emissions (metric tons per capita)</td>\n      <td>EN.ATM.CO2E.PC</td>\n      <td>5.314454</td>\n      <td>5.767160</td>\n      <td>5.563239</td>\n      <td>6.164371</td>\n      <td>6.125549</td>\n      <td>6.265854</td>\n      <td>...</td>\n      <td>6.755278</td>\n      <td>6.162153</td>\n      <td>5.458964</td>\n      <td>5.820925</td>\n      <td>6.207865</td>\n      <td>5.834882</td>\n      <td>6.201290</td>\n      <td>5.822034</td>\n      <td>5.610857</td>\n      <td>0.296404</td>\n    </tr>\n    <tr>\n      <th>53</th>\n      <td>Cyprus</td>\n      <td>CYP</td>\n      <td>CO2 emissions (metric tons per capita)</td>\n      <td>EN.ATM.CO2E.PC</td>\n      <td>7.558667</td>\n      <td>7.279172</td>\n      <td>7.339033</td>\n      <td>7.880736</td>\n      <td>7.699845</td>\n      <td>7.687390</td>\n      <td>...</td>\n      <td>6.783205</td>\n      <td>6.255253</td>\n      <td>5.621288</td>\n      <td>5.909935</td>\n      <td>5.900152</td>\n      <td>6.169943</td>\n      <td>6.238954</td>\n      <td>6.054175</td>\n      <td>5.998795</td>\n      <td>-1.559872</td>\n    </tr>\n  </tbody>\n</table>\n<p>4 rows × 25 columns</p>\n</div>"
     },
     "execution_count": 8,
     "metadata": {},
     "output_type": "execute_result"
    }
   ],
   "source": [
    "# Calcular o Delta de emissões de CO2 por país de 2000 até 2019\n",
    "for country in df_ue['Country Name'].unique():\n",
    "    df_ue.loc[df_ue['Country Name'] == country, 'Delta'] = df_ue.loc[df_ue['Country Name'] == country, '2019'].values[0] - df_ue.loc[df_ue['Country Name'] == country, '2000'].values[0]\n",
    "\n",
    "for country in df_ms['Country Name'].unique():\n",
    "    df_ms.loc[df_ms['Country Name'] == country, 'Delta'] = df_ms.loc[df_ms['Country Name'] == country, '2019'].values[0] - df_ms.loc[df_ms['Country Name'] == country, '2000'].values[0]\n",
    "\n",
    "df_ue.head(4)"
   ]
  },
  {
   "cell_type": "code",
   "execution_count": 9,
   "metadata": {
    "collapsed": false,
    "pycharm": {
     "name": "#%%\n"
    }
   },
   "outputs": [
    {
     "data": {
      "text/plain": "   Country Name Country Code                          Indicator Name  \\\n9     Argentina          ARG  CO2 emissions (metric tons per capita)   \n28      Bolivia          BOL  CO2 emissions (metric tons per capita)   \n29       Brazil          BRA  CO2 emissions (metric tons per capita)   \n39        Chile          CHL  CO2 emissions (metric tons per capita)   \n\n    Indicator Code      2000      2001      2002      2003      2004  \\\n9   EN.ATM.CO2E.PC  3.587392  3.360371  3.117425  3.351724  3.672974   \n28  EN.ATM.CO2E.PC  0.975260  0.938202  0.949350  1.019558  1.046417   \n29  EN.ATM.CO2E.PC  1.794550  1.802410  1.769881  1.709539  1.785372   \n39  EN.ATM.CO2E.PC  3.286328  3.121272  3.131772  3.167263  3.432413   \n\n        2005  ...      2011      2012      2013      2014      2015      2016  \\\n9   3.753639  ...  4.280989  4.264224  4.342115  4.209096  4.301914  4.201846   \n28  1.088569  ...  1.626366  1.678603  1.777588  1.906316  1.909891  1.995137   \n29  1.782062  ...  2.117869  2.279272  2.421657  2.523232  2.373629  2.168575   \n39  3.458629  ...  4.437266  4.506229  4.723555  4.311061  4.576124  4.749830   \n\n        2017      2018      2019     Delta  \n9   4.071308  3.975772  3.740650  0.153258  \n28  2.032547  2.046130  1.940398  0.965138  \n29  2.196418  2.071855  2.057811  0.263261  \n39  4.714020  4.624338  4.821118  1.534790  \n\n[4 rows x 25 columns]",
      "text/html": "<div>\n<style scoped>\n    .dataframe tbody tr th:only-of-type {\n        vertical-align: middle;\n    }\n\n    .dataframe tbody tr th {\n        vertical-align: top;\n    }\n\n    .dataframe thead th {\n        text-align: right;\n    }\n</style>\n<table border=\"1\" class=\"dataframe\">\n  <thead>\n    <tr style=\"text-align: right;\">\n      <th></th>\n      <th>Country Name</th>\n      <th>Country Code</th>\n      <th>Indicator Name</th>\n      <th>Indicator Code</th>\n      <th>2000</th>\n      <th>2001</th>\n      <th>2002</th>\n      <th>2003</th>\n      <th>2004</th>\n      <th>2005</th>\n      <th>...</th>\n      <th>2011</th>\n      <th>2012</th>\n      <th>2013</th>\n      <th>2014</th>\n      <th>2015</th>\n      <th>2016</th>\n      <th>2017</th>\n      <th>2018</th>\n      <th>2019</th>\n      <th>Delta</th>\n    </tr>\n  </thead>\n  <tbody>\n    <tr>\n      <th>9</th>\n      <td>Argentina</td>\n      <td>ARG</td>\n      <td>CO2 emissions (metric tons per capita)</td>\n      <td>EN.ATM.CO2E.PC</td>\n      <td>3.587392</td>\n      <td>3.360371</td>\n      <td>3.117425</td>\n      <td>3.351724</td>\n      <td>3.672974</td>\n      <td>3.753639</td>\n      <td>...</td>\n      <td>4.280989</td>\n      <td>4.264224</td>\n      <td>4.342115</td>\n      <td>4.209096</td>\n      <td>4.301914</td>\n      <td>4.201846</td>\n      <td>4.071308</td>\n      <td>3.975772</td>\n      <td>3.740650</td>\n      <td>0.153258</td>\n    </tr>\n    <tr>\n      <th>28</th>\n      <td>Bolivia</td>\n      <td>BOL</td>\n      <td>CO2 emissions (metric tons per capita)</td>\n      <td>EN.ATM.CO2E.PC</td>\n      <td>0.975260</td>\n      <td>0.938202</td>\n      <td>0.949350</td>\n      <td>1.019558</td>\n      <td>1.046417</td>\n      <td>1.088569</td>\n      <td>...</td>\n      <td>1.626366</td>\n      <td>1.678603</td>\n      <td>1.777588</td>\n      <td>1.906316</td>\n      <td>1.909891</td>\n      <td>1.995137</td>\n      <td>2.032547</td>\n      <td>2.046130</td>\n      <td>1.940398</td>\n      <td>0.965138</td>\n    </tr>\n    <tr>\n      <th>29</th>\n      <td>Brazil</td>\n      <td>BRA</td>\n      <td>CO2 emissions (metric tons per capita)</td>\n      <td>EN.ATM.CO2E.PC</td>\n      <td>1.794550</td>\n      <td>1.802410</td>\n      <td>1.769881</td>\n      <td>1.709539</td>\n      <td>1.785372</td>\n      <td>1.782062</td>\n      <td>...</td>\n      <td>2.117869</td>\n      <td>2.279272</td>\n      <td>2.421657</td>\n      <td>2.523232</td>\n      <td>2.373629</td>\n      <td>2.168575</td>\n      <td>2.196418</td>\n      <td>2.071855</td>\n      <td>2.057811</td>\n      <td>0.263261</td>\n    </tr>\n    <tr>\n      <th>39</th>\n      <td>Chile</td>\n      <td>CHL</td>\n      <td>CO2 emissions (metric tons per capita)</td>\n      <td>EN.ATM.CO2E.PC</td>\n      <td>3.286328</td>\n      <td>3.121272</td>\n      <td>3.131772</td>\n      <td>3.167263</td>\n      <td>3.432413</td>\n      <td>3.458629</td>\n      <td>...</td>\n      <td>4.437266</td>\n      <td>4.506229</td>\n      <td>4.723555</td>\n      <td>4.311061</td>\n      <td>4.576124</td>\n      <td>4.749830</td>\n      <td>4.714020</td>\n      <td>4.624338</td>\n      <td>4.821118</td>\n      <td>1.534790</td>\n    </tr>\n  </tbody>\n</table>\n<p>4 rows × 25 columns</p>\n</div>"
     },
     "execution_count": 9,
     "metadata": {},
     "output_type": "execute_result"
    }
   ],
   "source": [
    "df_ms.head(4)"
   ]
  },
  {
   "cell_type": "code",
   "execution_count": 10,
   "metadata": {
    "collapsed": false,
    "pycharm": {
     "name": "#%%\n"
    }
   },
   "outputs": [
    {
     "name": "stderr",
     "output_type": "stream",
     "text": [
      "/tmp/ipykernel_14185/3716828161.py:1: SettingWithCopyWarning: \n",
      "A value is trying to be set on a copy of a slice from a DataFrame.\n",
      "Try using .loc[row_indexer,col_indexer] = value instead\n",
      "\n",
      "See the caveats in the documentation: https://pandas.pydata.org/pandas-docs/stable/user_guide/indexing.html#returning-a-view-versus-a-copy\n",
      "  df_ue['Status'] = df_ue['Delta'].apply(lambda x: 'Atrasado' if x >= 0 else 'Avançado')\n",
      "/tmp/ipykernel_14185/3716828161.py:2: SettingWithCopyWarning: \n",
      "A value is trying to be set on a copy of a slice from a DataFrame.\n",
      "Try using .loc[row_indexer,col_indexer] = value instead\n",
      "\n",
      "See the caveats in the documentation: https://pandas.pydata.org/pandas-docs/stable/user_guide/indexing.html#returning-a-view-versus-a-copy\n",
      "  df_ms['Status'] = df_ms['Delta'].apply(lambda x: 'Atrasado' if x >= 0 else 'Avançado')\n"
     ]
    }
   ],
   "source": [
    "df_ue['Status'] = df_ue['Delta'].apply(lambda x: 'Atrasado' if x >= 0 else 'Avançado')\n",
    "df_ms['Status'] = df_ms['Delta'].apply(lambda x: 'Atrasado' if x >= 0 else 'Avançado')"
   ]
  },
  {
   "cell_type": "code",
   "execution_count": 11,
   "metadata": {
    "collapsed": false,
    "pycharm": {
     "name": "#%%\n"
    }
   },
   "outputs": [
    {
     "data": {
      "text/plain": "      Country Name Country Code                          Indicator Name  \\\n14         Austria          AUT  CO2 emissions (metric tons per capita)   \n17         Belgium          BEL  CO2 emissions (metric tons per capita)   \n21        Bulgaria          BGR  CO2 emissions (metric tons per capita)   \n53          Cyprus          CYP  CO2 emissions (metric tons per capita)   \n54  Czech Republic          CZE  CO2 emissions (metric tons per capita)   \n\n    Indicator Code       2000       2001       2002       2003       2004  \\\n14  EN.ATM.CO2E.PC   7.929786   8.444109   8.583317   9.168344   9.275614   \n17  EN.ATM.CO2E.PC  11.439581  11.504321  10.727988  11.131315  10.941224   \n21  EN.ATM.CO2E.PC   5.314454   5.767160   5.563239   6.164371   6.125549   \n53  EN.ATM.CO2E.PC   7.558667   7.279172   7.339033   7.880736   7.699845   \n54  EN.ATM.CO2E.PC  12.010653  12.011818  11.624103  12.043361  12.105402   \n\n         2005  ...      2013      2014      2015      2016      2017  \\\n14   9.266114  ...  7.753700  7.260404  7.317159  7.288820  7.486162   \n17  10.555782  ...  8.655478  8.041711  8.437852  8.314932  8.151096   \n21   6.265854  ...  5.458964  5.820925  6.207865  5.834882  6.201290   \n53   7.687390  ...  5.621288  5.909935  5.900152  6.169943  6.238954   \n54  11.750804  ...  9.620257  9.264303  9.400668  9.627750  9.611647   \n\n        2018      2019     Delta    Status  Bloco  \n14  7.133064  7.293984 -0.635801  Avançado     UE  \n17  8.196339  8.095584 -3.343997  Avançado     UE  \n21  5.822034  5.610857  0.296404  Atrasado     UE  \n53  6.054175  5.998795 -1.559872  Avançado     UE  \n54  9.492068  9.022786 -2.987867  Avançado     UE  \n\n[5 rows x 27 columns]",
      "text/html": "<div>\n<style scoped>\n    .dataframe tbody tr th:only-of-type {\n        vertical-align: middle;\n    }\n\n    .dataframe tbody tr th {\n        vertical-align: top;\n    }\n\n    .dataframe thead th {\n        text-align: right;\n    }\n</style>\n<table border=\"1\" class=\"dataframe\">\n  <thead>\n    <tr style=\"text-align: right;\">\n      <th></th>\n      <th>Country Name</th>\n      <th>Country Code</th>\n      <th>Indicator Name</th>\n      <th>Indicator Code</th>\n      <th>2000</th>\n      <th>2001</th>\n      <th>2002</th>\n      <th>2003</th>\n      <th>2004</th>\n      <th>2005</th>\n      <th>...</th>\n      <th>2013</th>\n      <th>2014</th>\n      <th>2015</th>\n      <th>2016</th>\n      <th>2017</th>\n      <th>2018</th>\n      <th>2019</th>\n      <th>Delta</th>\n      <th>Status</th>\n      <th>Bloco</th>\n    </tr>\n  </thead>\n  <tbody>\n    <tr>\n      <th>14</th>\n      <td>Austria</td>\n      <td>AUT</td>\n      <td>CO2 emissions (metric tons per capita)</td>\n      <td>EN.ATM.CO2E.PC</td>\n      <td>7.929786</td>\n      <td>8.444109</td>\n      <td>8.583317</td>\n      <td>9.168344</td>\n      <td>9.275614</td>\n      <td>9.266114</td>\n      <td>...</td>\n      <td>7.753700</td>\n      <td>7.260404</td>\n      <td>7.317159</td>\n      <td>7.288820</td>\n      <td>7.486162</td>\n      <td>7.133064</td>\n      <td>7.293984</td>\n      <td>-0.635801</td>\n      <td>Avançado</td>\n      <td>UE</td>\n    </tr>\n    <tr>\n      <th>17</th>\n      <td>Belgium</td>\n      <td>BEL</td>\n      <td>CO2 emissions (metric tons per capita)</td>\n      <td>EN.ATM.CO2E.PC</td>\n      <td>11.439581</td>\n      <td>11.504321</td>\n      <td>10.727988</td>\n      <td>11.131315</td>\n      <td>10.941224</td>\n      <td>10.555782</td>\n      <td>...</td>\n      <td>8.655478</td>\n      <td>8.041711</td>\n      <td>8.437852</td>\n      <td>8.314932</td>\n      <td>8.151096</td>\n      <td>8.196339</td>\n      <td>8.095584</td>\n      <td>-3.343997</td>\n      <td>Avançado</td>\n      <td>UE</td>\n    </tr>\n    <tr>\n      <th>21</th>\n      <td>Bulgaria</td>\n      <td>BGR</td>\n      <td>CO2 emissions (metric tons per capita)</td>\n      <td>EN.ATM.CO2E.PC</td>\n      <td>5.314454</td>\n      <td>5.767160</td>\n      <td>5.563239</td>\n      <td>6.164371</td>\n      <td>6.125549</td>\n      <td>6.265854</td>\n      <td>...</td>\n      <td>5.458964</td>\n      <td>5.820925</td>\n      <td>6.207865</td>\n      <td>5.834882</td>\n      <td>6.201290</td>\n      <td>5.822034</td>\n      <td>5.610857</td>\n      <td>0.296404</td>\n      <td>Atrasado</td>\n      <td>UE</td>\n    </tr>\n    <tr>\n      <th>53</th>\n      <td>Cyprus</td>\n      <td>CYP</td>\n      <td>CO2 emissions (metric tons per capita)</td>\n      <td>EN.ATM.CO2E.PC</td>\n      <td>7.558667</td>\n      <td>7.279172</td>\n      <td>7.339033</td>\n      <td>7.880736</td>\n      <td>7.699845</td>\n      <td>7.687390</td>\n      <td>...</td>\n      <td>5.621288</td>\n      <td>5.909935</td>\n      <td>5.900152</td>\n      <td>6.169943</td>\n      <td>6.238954</td>\n      <td>6.054175</td>\n      <td>5.998795</td>\n      <td>-1.559872</td>\n      <td>Avançado</td>\n      <td>UE</td>\n    </tr>\n    <tr>\n      <th>54</th>\n      <td>Czech Republic</td>\n      <td>CZE</td>\n      <td>CO2 emissions (metric tons per capita)</td>\n      <td>EN.ATM.CO2E.PC</td>\n      <td>12.010653</td>\n      <td>12.011818</td>\n      <td>11.624103</td>\n      <td>12.043361</td>\n      <td>12.105402</td>\n      <td>11.750804</td>\n      <td>...</td>\n      <td>9.620257</td>\n      <td>9.264303</td>\n      <td>9.400668</td>\n      <td>9.627750</td>\n      <td>9.611647</td>\n      <td>9.492068</td>\n      <td>9.022786</td>\n      <td>-2.987867</td>\n      <td>Avançado</td>\n      <td>UE</td>\n    </tr>\n  </tbody>\n</table>\n<p>5 rows × 27 columns</p>\n</div>"
     },
     "execution_count": 11,
     "metadata": {},
     "output_type": "execute_result"
    }
   ],
   "source": [
    "# concatenar os dois blocos\n",
    "df_concat = pd.concat([df_ue, df_ms])\n",
    "df_concat['Bloco'] = df_concat['Country Code'].apply(lambda x: 'UE' if x in ['AUT', 'BEL', 'BGR', 'HRV', 'CYP', 'CZE', 'DNK', 'EST', 'FIN', 'FRA', 'DEU', 'GRC', 'HUN', 'IRL', 'ITA', 'LVA', 'LTU', 'LUX', 'MLT', 'NLD', 'POL', 'PRT', 'ROU', 'SVK', 'SVN', 'ESP', 'SWE'] else 'Mercosul')\n",
    "df_concat.head()"
   ]
  },
  {
   "cell_type": "code",
   "execution_count": 12,
   "metadata": {
    "collapsed": false,
    "pycharm": {
     "name": "#%%\n"
    }
   },
   "outputs": [
    {
     "data": {
      "text/plain": "Avançado    23\nAtrasado    16\nName: Status, dtype: int64"
     },
     "execution_count": 12,
     "metadata": {},
     "output_type": "execute_result"
    }
   ],
   "source": [
    "# Contagem de países por Status\n",
    "df_concat['Status'].value_counts()"
   ]
  },
  {
   "cell_type": "code",
   "execution_count": 13,
   "metadata": {
    "collapsed": false,
    "pycharm": {
     "name": "#%%\n"
    }
   },
   "outputs": [
    {
     "data": {
      "text/plain": "Bloco     Status  \nMercosul  Atrasado    11\n          Avançado     1\nUE        Atrasado     5\n          Avançado    22\ndtype: int64"
     },
     "execution_count": 13,
     "metadata": {},
     "output_type": "execute_result"
    }
   ],
   "source": [
    "# Contagem de países por Bloco e Status\n",
    "df_concat.groupby(['Bloco', 'Status']).size()"
   ]
  },
  {
   "cell_type": "markdown",
   "metadata": {
    "collapsed": false,
    "pycharm": {
     "name": "#%% md\n"
    }
   },
   "source": [
    "# Análise Exploratória"
   ]
  },
  {
   "cell_type": "code",
   "execution_count": 14,
   "metadata": {
    "collapsed": false,
    "pycharm": {
     "name": "#%%\n"
    }
   },
   "outputs": [
    {
     "data": {
      "text/plain": "Text(0.5, 0, 'Bloco')"
     },
     "execution_count": 14,
     "metadata": {},
     "output_type": "execute_result"
    },
    {
     "data": {
      "text/plain": "<Figure size 1600x900 with 1 Axes>",
      "image/png": "[encoded data removed]"
     },
     "metadata": {},
     "output_type": "display_data"
    }
   ],
   "source": [
    "import matplotlib.pyplot as plt\n",
    "import seaborn as sns\n",
    "\n",
    "plt.figure(figsize=(16, 9))\n",
    "sns.set_style('whitegrid')\n",
    "sns.countplot(x='Bloco', hue='Status', data=df_concat, palette='Set2')\n",
    "plt.title('Contagem dos países por bloco e status (avançado ou atrasado)')\n",
    "plt.ylabel('Quantidade de países')\n",
    "plt.xlabel('Bloco')"
   ]
  },
  {
   "cell_type": "markdown",
   "metadata": {
    "collapsed": false,
    "pycharm": {
     "name": "#%% md\n"
    }
   },
   "source": [
    "# Calculando as Probabilidades e Estatísticas"
   ]
  },
  {
   "cell_type": "code",
   "execution_count": 15,
   "metadata": {
    "collapsed": false,
    "pycharm": {
     "name": "#%%\n"
    }
   },
   "outputs": [
    {
     "name": "stdout",
     "output_type": "stream",
     "text": [
      "A probabilidade de um país do bloco UE estar avançado em relação à métrica é de 81.48%.\n",
      "A probabilidade de um país do bloco UE estar atrasado em relação à métrica é de 18.52%.\n"
     ]
    }
   ],
   "source": [
    "# P(Avançado | UE)\n",
    "p_avancado_ue = df_concat[(df_concat['Bloco'] == 'UE') & (df_concat['Status'] == 'Avançado')].shape[0] / df_concat[df_concat['Bloco'] == 'UE'].shape[0]\n",
    "# P(Atrasado | UE)\n",
    "p_atrasado_ue = df_concat[(df_concat['Bloco'] == 'UE') & (df_concat['Status'] == 'Atrasado')].shape[0] / df_concat[df_concat['Bloco'] == 'UE'].shape[0]\n",
    "print(f'A probabilidade de um país do bloco UE estar avançado em relação à métrica é de {p_avancado_ue*100:.2f}%.')\n",
    "print(f'A probabilidade de um país do bloco UE estar atrasado em relação à métrica é de {p_atrasado_ue*100:.2f}%.')"
   ]
  },
  {
   "cell_type": "code",
   "execution_count": 16,
   "metadata": {
    "collapsed": false,
    "pycharm": {
     "name": "#%%\n"
    }
   },
   "outputs": [
    {
     "name": "stdout",
     "output_type": "stream",
     "text": [
      "A probabilidade de um país do bloco Mercosul estar avançado em relação à métrica é de 8.33%.\n",
      "A probabilidade de um país do bloco Mercosul estar atrasado em relação à métrica é de 91.67%.\n"
     ]
    }
   ],
   "source": [
    "# P(Avançado | Mercosul)\n",
    "p_avancado_ms = df_concat[(df_concat['Bloco'] == 'Mercosul') & (df_concat['Status'] == 'Avançado')].shape[0] / df_concat[df_concat['Bloco'] == 'Mercosul'].shape[0]\n",
    "# P(Atrasado | Mercosul)\n",
    "p_atrasado_ms = df_concat[(df_concat['Bloco'] == 'Mercosul') & (df_concat['Status'] == 'Atrasado')].shape[0] / df_concat[df_concat['Bloco'] == 'Mercosul'].shape[0]\n",
    "print(f'A probabilidade de um país do bloco Mercosul estar avançado em relação à métrica é de {p_avancado_ms*100:.2f}%.')\n",
    "print(f'A probabilidade de um país do bloco Mercosul estar atrasado em relação à métrica é de {p_atrasado_ms*100:.2f}%.')"
   ]
  },
  {
   "cell_type": "code",
   "execution_count": 17,
   "metadata": {
    "collapsed": false,
    "pycharm": {
     "name": "#%%\n"
    }
   },
   "outputs": [
    {
     "name": "stdout",
     "output_type": "stream",
     "text": [
      "A probabilidade de um país escolhido ser do bloco Mercosul é de 30.77%.\n",
      "A probabilidade de um país escolhido ser do bloco UE é de 69.23%.\n"
     ]
    }
   ],
   "source": [
    "# P(Mercosul)\n",
    "p_ms = df_concat[df_concat['Bloco'] == 'Mercosul'].shape[0] / df_concat.shape[0]\n",
    "# P(UE)\n",
    "p_ue = df_concat[df_concat['Bloco'] == 'UE'].shape[0] / df_concat.shape[0]\n",
    "print(f'A probabilidade de um país escolhido ser do bloco Mercosul é de {p_ms*100:.2f}%.')\n",
    "print(f'A probabilidade de um país escolhido ser do bloco UE é de {p_ue*100:.2f}%.')"
   ]
  },
  {
   "cell_type": "code",
   "execution_count": 18,
   "metadata": {
    "collapsed": false,
    "pycharm": {
     "name": "#%%\n"
    }
   },
   "outputs": [
    {
     "name": "stdout",
     "output_type": "stream",
     "text": [
      "A probabilidade de um país escolhido estar avançado em relação à métrica é de 58.97%.\n",
      "A probabilidade de um país escolhido estar atrasado em relação à métrica é de 41.03%.\n"
     ]
    }
   ],
   "source": [
    "# P(Avançado)\n",
    "p_avancado = df_concat[df_concat['Status'] == 'Avançado'].shape[0] / df_concat.shape[0]\n",
    "# P(Atrasado)\n",
    "p_atrasado = df_concat[df_concat['Status'] == 'Atrasado'].shape[0] / df_concat.shape[0]\n",
    "print(f'A probabilidade de um país escolhido estar avançado em relação à métrica é de {p_avancado*100:.2f}%.')\n",
    "print(f'A probabilidade de um país escolhido estar atrasado em relação à métrica é de {p_atrasado*100:.2f}%.')"
   ]
  },
  {
   "cell_type": "code",
   "execution_count": 19,
   "metadata": {
    "collapsed": false,
    "pycharm": {
     "name": "#%%\n"
    }
   },
   "outputs": [
    {
     "name": "stdout",
     "output_type": "stream",
     "text": [
      "De acordo com o Bayesiano calculado, a probabilidade de um país ser do Mercosul dado que ele está avançado em relação à métrica é de 4.3%.\n"
     ]
    }
   ],
   "source": [
    "# P(Mercosul | Avançado) = P(Mercosul) * P(Avançado | Mercosul) / P(Avançado)\n",
    "p_ms_avancado = (p_avancado_ms * p_ms) / p_avancado\n",
    "print(f'De acordo com o Bayesiano calculado, a probabilidade de um país ser do Mercosul dado que ele está avançado em relação à métrica é de {p_ms_avancado*100:.1f}%.')"
   ]
  },
  {
   "cell_type": "code",
   "execution_count": 20,
   "metadata": {
    "collapsed": false,
    "pycharm": {
     "name": "#%%\n"
    }
   },
   "outputs": [
    {
     "name": "stdout",
     "output_type": "stream",
     "text": [
      "De acordo com o Bayesiano calculado, a probabilidade de um país ser do Mercosul dado que ele está atrasado em relação à métrica é de 68.8%.\n"
     ]
    }
   ],
   "source": [
    "# P(Mercosul | Atrasado) = P(Mercosul) * P(Atrasado | Mercosul) / P(Atrasado)\n",
    "p_ms_atrasado = (p_atrasado_ms * p_ms) / p_atrasado\n",
    "print(f'De acordo com o Bayesiano calculado, a probabilidade de um país ser do Mercosul dado que ele está atrasado em relação à métrica é de {p_ms_atrasado*100:.1f}%.')"
   ]
  },
  {
   "cell_type": "code",
   "execution_count": 21,
   "metadata": {
    "collapsed": false,
    "pycharm": {
     "name": "#%%\n"
    }
   },
   "outputs": [
    {
     "name": "stdout",
     "output_type": "stream",
     "text": [
      "De acordo com o Bayesiano calculado, a probabilidade de um país ser da UE dado que ele está avançado em relação à métrica é de 95.7%.\n"
     ]
    }
   ],
   "source": [
    "# P(UE | Avançado) = P(UE) * P(Avançado | UE) / P(Avançado)\n",
    "p_ue_avancado = (p_avancado_ue * p_ue) / p_avancado\n",
    "print(f'De acordo com o Bayesiano calculado, a probabilidade de um país ser da UE dado que ele está avançado em relação à métrica é de {p_ue_avancado*100:.1f}%.')"
   ]
  },
  {
   "cell_type": "code",
   "execution_count": 22,
   "metadata": {
    "collapsed": false,
    "pycharm": {
     "name": "#%%\n"
    }
   },
   "outputs": [
    {
     "name": "stdout",
     "output_type": "stream",
     "text": [
      "De acordo com o Bayesiano calculado, a probabilidade de um país ser da UE dado que ele está atrasado em relação à métrica é de 31.2%.\n"
     ]
    }
   ],
   "source": [
    "# P(UE | Atrasado) = P(UE) * P(Atrasado | UE) / P(Atrasado)\n",
    "p_ue_atrasado = (p_atrasado_ue * p_ue) / p_atrasado\n",
    "print(f'De acordo com o Bayesiano calculado, a probabilidade de um país ser da UE dado que ele está atrasado em relação à métrica é de {p_ue_atrasado*100:.1f}%.')"
   ]
  },
  {
   "cell_type": "code",
   "execution_count": 23,
   "metadata": {
    "collapsed": false,
    "pycharm": {
     "name": "#%%\n"
    }
   },
   "outputs": [],
   "source": [
    "# Classificador Bayesiano\n",
    "def classificador_bayesiano(pais):\n",
    "    if df_concat[df_concat['Country Code'] == pais]['Status'].values[0] == 'Avançado':\n",
    "        if p_ms_avancado > p_ue_avancado:\n",
    "            return 'Mercosul'\n",
    "        else:\n",
    "            return 'UE'\n",
    "    else:\n",
    "        if p_ms_atrasado > p_ue_atrasado:\n",
    "            return 'Mercosul'\n",
    "        else:\n",
    "            return 'UE'"
   ]
  },
  {
   "cell_type": "markdown",
   "metadata": {
    "collapsed": false,
    "pycharm": {
     "name": "#%% md\n"
    }
   },
   "source": [
    "# Classificador Bayesiano\n",
    "\n",
    "Para realizar a classificação simples, o grupo elaborou uma função classificadora com base nas probabilidades calculadas anteriormente."
   ]
  },
  {
   "cell_type": "code",
   "execution_count": 24,
   "metadata": {
    "collapsed": false,
    "pycharm": {
     "name": "#%%\n"
    }
   },
   "outputs": [
    {
     "data": {
      "text/plain": "      Country Name Country Code                          Indicator Name  \\\n14         Austria          AUT  CO2 emissions (metric tons per capita)   \n17         Belgium          BEL  CO2 emissions (metric tons per capita)   \n21        Bulgaria          BGR  CO2 emissions (metric tons per capita)   \n53          Cyprus          CYP  CO2 emissions (metric tons per capita)   \n54  Czech Republic          CZE  CO2 emissions (metric tons per capita)   \n\n    Indicator Code       2000       2001       2002       2003       2004  \\\n14  EN.ATM.CO2E.PC   7.929786   8.444109   8.583317   9.168344   9.275614   \n17  EN.ATM.CO2E.PC  11.439581  11.504321  10.727988  11.131315  10.941224   \n21  EN.ATM.CO2E.PC   5.314454   5.767160   5.563239   6.164371   6.125549   \n53  EN.ATM.CO2E.PC   7.558667   7.279172   7.339033   7.880736   7.699845   \n54  EN.ATM.CO2E.PC  12.010653  12.011818  11.624103  12.043361  12.105402   \n\n         2005  ...      2014      2015      2016      2017      2018  \\\n14   9.266114  ...  7.260404  7.317159  7.288820  7.486162  7.133064   \n17  10.555782  ...  8.041711  8.437852  8.314932  8.151096  8.196339   \n21   6.265854  ...  5.820925  6.207865  5.834882  6.201290  5.822034   \n53   7.687390  ...  5.909935  5.900152  6.169943  6.238954  6.054175   \n54  11.750804  ...  9.264303  9.400668  9.627750  9.611647  9.492068   \n\n        2019     Delta    Status  Bloco      Pred  \n14  7.293984 -0.635801  Avançado     UE        UE  \n17  8.095584 -3.343997  Avançado     UE        UE  \n21  5.610857  0.296404  Atrasado     UE  Mercosul  \n53  5.998795 -1.559872  Avançado     UE        UE  \n54  9.022786 -2.987867  Avançado     UE        UE  \n\n[5 rows x 28 columns]",
      "text/html": "<div>\n<style scoped>\n    .dataframe tbody tr th:only-of-type {\n        vertical-align: middle;\n    }\n\n    .dataframe tbody tr th {\n        vertical-align: top;\n    }\n\n    .dataframe thead th {\n        text-align: right;\n    }\n</style>\n<table border=\"1\" class=\"dataframe\">\n  <thead>\n    <tr style=\"text-align: right;\">\n      <th></th>\n      <th>Country Name</th>\n      <th>Country Code</th>\n      <th>Indicator Name</th>\n      <th>Indicator Code</th>\n      <th>2000</th>\n      <th>2001</th>\n      <th>2002</th>\n      <th>2003</th>\n      <th>2004</th>\n      <th>2005</th>\n      <th>...</th>\n      <th>2014</th>\n      <th>2015</th>\n      <th>2016</th>\n      <th>2017</th>\n      <th>2018</th>\n      <th>2019</th>\n      <th>Delta</th>\n      <th>Status</th>\n      <th>Bloco</th>\n      <th>Pred</th>\n    </tr>\n  </thead>\n  <tbody>\n    <tr>\n      <th>14</th>\n      <td>Austria</td>\n      <td>AUT</td>\n      <td>CO2 emissions (metric tons per capita)</td>\n      <td>EN.ATM.CO2E.PC</td>\n      <td>7.929786</td>\n      <td>8.444109</td>\n      <td>8.583317</td>\n      <td>9.168344</td>\n      <td>9.275614</td>\n      <td>9.266114</td>\n      <td>...</td>\n      <td>7.260404</td>\n      <td>7.317159</td>\n      <td>7.288820</td>\n      <td>7.486162</td>\n      <td>7.133064</td>\n      <td>7.293984</td>\n      <td>-0.635801</td>\n      <td>Avançado</td>\n      <td>UE</td>\n      <td>UE</td>\n    </tr>\n    <tr>\n      <th>17</th>\n      <td>Belgium</td>\n      <td>BEL</td>\n      <td>CO2 emissions (metric tons per capita)</td>\n      <td>EN.ATM.CO2E.PC</td>\n      <td>11.439581</td>\n      <td>11.504321</td>\n      <td>10.727988</td>\n      <td>11.131315</td>\n      <td>10.941224</td>\n      <td>10.555782</td>\n      <td>...</td>\n      <td>8.041711</td>\n      <td>8.437852</td>\n      <td>8.314932</td>\n      <td>8.151096</td>\n      <td>8.196339</td>\n      <td>8.095584</td>\n      <td>-3.343997</td>\n      <td>Avançado</td>\n      <td>UE</td>\n      <td>UE</td>\n    </tr>\n    <tr>\n      <th>21</th>\n      <td>Bulgaria</td>\n      <td>BGR</td>\n      <td>CO2 emissions (metric tons per capita)</td>\n      <td>EN.ATM.CO2E.PC</td>\n      <td>5.314454</td>\n      <td>5.767160</td>\n      <td>5.563239</td>\n      <td>6.164371</td>\n      <td>6.125549</td>\n      <td>6.265854</td>\n      <td>...</td>\n      <td>5.820925</td>\n      <td>6.207865</td>\n      <td>5.834882</td>\n      <td>6.201290</td>\n      <td>5.822034</td>\n      <td>5.610857</td>\n      <td>0.296404</td>\n      <td>Atrasado</td>\n      <td>UE</td>\n      <td>Mercosul</td>\n    </tr>\n    <tr>\n      <th>53</th>\n      <td>Cyprus</td>\n      <td>CYP</td>\n      <td>CO2 emissions (metric tons per capita)</td>\n      <td>EN.ATM.CO2E.PC</td>\n      <td>7.558667</td>\n      <td>7.279172</td>\n      <td>7.339033</td>\n      <td>7.880736</td>\n      <td>7.699845</td>\n      <td>7.687390</td>\n      <td>...</td>\n      <td>5.909935</td>\n      <td>5.900152</td>\n      <td>6.169943</td>\n      <td>6.238954</td>\n      <td>6.054175</td>\n      <td>5.998795</td>\n      <td>-1.559872</td>\n      <td>Avançado</td>\n      <td>UE</td>\n      <td>UE</td>\n    </tr>\n    <tr>\n      <th>54</th>\n      <td>Czech Republic</td>\n      <td>CZE</td>\n      <td>CO2 emissions (metric tons per capita)</td>\n      <td>EN.ATM.CO2E.PC</td>\n      <td>12.010653</td>\n      <td>12.011818</td>\n      <td>11.624103</td>\n      <td>12.043361</td>\n      <td>12.105402</td>\n      <td>11.750804</td>\n      <td>...</td>\n      <td>9.264303</td>\n      <td>9.400668</td>\n      <td>9.627750</td>\n      <td>9.611647</td>\n      <td>9.492068</td>\n      <td>9.022786</td>\n      <td>-2.987867</td>\n      <td>Avançado</td>\n      <td>UE</td>\n      <td>UE</td>\n    </tr>\n  </tbody>\n</table>\n<p>5 rows × 28 columns</p>\n</div>"
     },
     "execution_count": 24,
     "metadata": {},
     "output_type": "execute_result"
    }
   ],
   "source": [
    "df_concat['Pred'] = df_concat['Country Code'].apply(classificador_bayesiano)\n",
    "df_concat.head()"
   ]
  },
  {
   "cell_type": "code",
   "execution_count": 25,
   "metadata": {
    "collapsed": false,
    "pycharm": {
     "name": "#%%\n"
    }
   },
   "outputs": [
    {
     "data": {
      "text/plain": "UE          23\nMercosul    16\nName: Pred, dtype: int64"
     },
     "execution_count": 25,
     "metadata": {},
     "output_type": "execute_result"
    }
   ],
   "source": [
    "# Avaliando o classificador\n",
    "df_concat['Pred'].value_counts()"
   ]
  },
  {
   "cell_type": "code",
   "execution_count": 26,
   "metadata": {
    "collapsed": false,
    "pycharm": {
     "name": "#%%\n"
    }
   },
   "outputs": [
    {
     "data": {
      "text/plain": "Bloco     Pred    \nMercosul  Mercosul    11\n          UE           1\nUE        Mercosul     5\n          UE          22\ndtype: int64"
     },
     "execution_count": 26,
     "metadata": {},
     "output_type": "execute_result"
    }
   ],
   "source": [
    "# Avaliando a contagem de um bloco previsto em relação ao bloco real dos países\n",
    "df_concat.groupby(['Bloco', 'Pred']).size()"
   ]
  },
  {
   "cell_type": "code",
   "execution_count": 27,
   "metadata": {
    "collapsed": false,
    "pycharm": {
     "name": "#%%\n"
    }
   },
   "outputs": [
    {
     "name": "stdout",
     "output_type": "stream",
     "text": [
      "A acurácia do classificador é de 84.62%.\n"
     ]
    },
    {
     "data": {
      "text/plain": "Bloco     Pred    \nMercosul  Mercosul    0.916667\n          UE          0.083333\nUE        Mercosul    0.185185\n          UE          0.814815\ndtype: float64"
     },
     "execution_count": 27,
     "metadata": {},
     "output_type": "execute_result"
    }
   ],
   "source": [
    "# Acurácia do classificador\n",
    "from sklearn.metrics import accuracy_score\n",
    "acc = accuracy_score(df_concat['Bloco'], df_concat['Pred'])\n",
    "print(f'A acurácia do classificador é de {acc*100:.2f}%.')\n",
    "\n",
    "# Acurácia por bloco\n",
    "df_concat.groupby(['Bloco', 'Pred']).size() / df_concat.groupby(['Bloco']).size()"
   ]
  },
  {
   "cell_type": "markdown",
   "metadata": {
    "collapsed": false,
    "pycharm": {
     "name": "#%% md\n"
    }
   },
   "source": [
    "# Conclusão\n",
    "\n",
    "É possível observar, pela matriz elaborada, que apenas um país da Mercosul foi erroneamente calculado como sendo da União Europeia, enquanto 5 países da União Europeia foram erroneamente calculados como sendo do Mercosul. A acurácia calculada para o classificador foi de quase 85%, o que é um resultado satisfatório para um classificador tão simples. A acurácia é medida contando os valores previstos como verdadeiros, divididos pelo total de valores previstos; portanto, em 85% dos casos, o classificador previu corretamente o bloco econômico ao qual o país pertence. Como pode ser visto em seguida, a acurácia por bloco é de aproximadamente 92% para o Mercosul, e 81% para a União Europeia. Isso provavelmente se dá por conta de haver mais países na União Europeia do que no Mercosul, e que tais países são mais diversos em relação à métrica. O Mercosul possui menos países, e são mais concentrados em \"Atrasados\" no Status, como pode ser visto em nossa Análise Exploratória.\n",
    "\n",
    "Levando em consideração o que foi obtido, o grupo pode concluir que, para essa situação, a métrica escolhida é um bom preditor para o bloco econômico.\n"
   ]
  },
  {
   "cell_type": "markdown",
   "source": [
    "## Alterações na APS2\n",
    "\n",
    "- Retiramos a afirmação de uma correlação negativa significar que as variáveis são inversamente proporcionais.\n",
    "- Separamos os gráficos, para uma melhor compreensão do eixo Y, um está em %, enquanto o outro está em toneladas\n",
    "- Mudamos a ordem de apresentação dos resultados, estando as conclusões por último, após os gráficos e os valores de covariância e correlação."
   ],
   "metadata": {
    "collapsed": false,
    "pycharm": {
     "name": "#%% md\n"
    }
   }
  },
  {
   "cell_type": "markdown",
   "source": [
    "## Referências\n",
    "\n",
    "- https://www.mercosur.int/pt-br/quem-somos/paises-do-mercosul/\n",
    "- https://www.mercosur.int/pt-br/quem-somos/em-poucas-palavras/\n",
    "- https://european-union.europa.eu/principles-countries-history/country-profiles_pt\n",
    "- https://www.generaltradeways.com.br/es_ES/blog/o-que-e-o-mercosul-e-quais-os-seus-beneficios/\n",
    "- https://pt.wikipedia.org/wiki/Uni%C3%A3o_Europeia\n",
    "- https://pt.wikipedia.org/wiki/Crit%C3%A9rios_de_Copenhaga\n",
    "- https://vitorborbarodrigues.medium.com/m%C3%A9tricas-de-avalia%C3%A7%C3%A3o-acur%C3%A1cia-precis%C3%A3o-recall-quais-as-diferen%C3%A7as-c8f05e0a513c"
   ],
   "metadata": {
    "collapsed": false,
    "pycharm": {
     "name": "#%% md\n"
    }
   }
  },
  {
   "cell_type": "code",
   "execution_count": null,
   "outputs": [],
   "source": [],
   "metadata": {
    "collapsed": false,
    "pycharm": {
     "name": "#%%\n"
    }
   }
  },
  {
   "cell_type": "markdown",
   "metadata": {
    "collapsed": false,
    "pycharm": {
     "name": "#%% md\n"
    }
   },
   "source": [
    "## Referências\n",
    "\n",
    "- https://www.mercosur.int/pt-br/quem-somos/paises-do-mercosul/\n",
    "- https://www.mercosur.int/pt-br/quem-somos/em-poucas-palavras/\n",
    "- https://european-union.europa.eu/principles-countries-history/country-profiles_pt\n",
    "- https://www.generaltradeways.com.br/es_ES/blog/o-que-e-o-mercosul-e-quais-os-seus-beneficios/\n",
    "- https://pt.wikipedia.org/wiki/Uni%C3%A3o_Europeia\n",
    "- https://pt.wikipedia.org/wiki/Crit%C3%A9rios_de_Copenhaga\n",
    "- https://vitorborbarodrigues.medium.com/m%C3%A9tricas-de-avalia%C3%A7%C3%A3o-acur%C3%A1cia-precis%C3%A3o-recall-quais-as-diferen%C3%A7as-c8f05e0a513c"
   ]
  }
 ],
 "metadata": {
  "kernelspec": {
   "display_name": "Python 3.10.8 64-bit",
   "language": "python",
   "name": "python3"
  },
  "language_info": {
   "codemirror_mode": {
    "name": "ipython",
    "version": 2
   },
   "file_extension": ".py",
   "mimetype": "text/x-python",
   "name": "python",
   "nbconvert_exporter": "python",
   "pygments_lexer": "ipython2",
   "version": "3.10.8"
  },
  "vscode": {
   "interpreter": {
    "hash": "76d7c06053c3456e5600312cec90888656fc0ed30c03d8425b9dac6e4fc8e014"
   }
  }
 },
 "nbformat": 4,
 "nbformat_minor": 0
}